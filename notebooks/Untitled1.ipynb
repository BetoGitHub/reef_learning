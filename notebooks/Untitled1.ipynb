{
 "cells": [
  {
   "cell_type": "code",
   "execution_count": 3,
   "metadata": {
    "collapsed": false
   },
   "outputs": [],
   "source": [
    "import os\n",
    "os.chdir('/home/caffe/gits')\n",
    "import catlin_deeplearning.tools.catlin_caffe_tools as cct\n",
    "import catlin_deeplearning.tools.catlin_tools as ct\n"
   ]
  },
  {
   "cell_type": "code",
   "execution_count": 43,
   "metadata": {
    "collapsed": true
   },
   "outputs": [],
   "source": [
    "region='gbr'\n",
    "modeldir=osp.join('/media/data_caffe', region,'deploy')\n",
    "\n",
    "# Define data folder to process \n",
    "expdir=\"test_exp\" \n",
    "npoints=50\n",
    "gpuid=0\n",
    "test_folder='test_color'"
   ]
  },
  {
   "cell_type": "code",
   "execution_count": 44,
   "metadata": {
    "collapsed": true
   },
   "outputs": [],
   "source": [
    "bestiter, _ = cct.find_best_iter(modeldir)\n"
   ]
  },
  {
   "cell_type": "code",
   "execution_count": 45,
   "metadata": {
    "collapsed": false
   },
   "outputs": [
    {
     "name": "stdout",
     "output_type": "stream",
     "text": [
      "DataLayer initialized with 1065 images, 5 imgs per batch, and 224x224 pixel patches\n"
     ]
    }
   ],
   "source": [
    "caffemodel = 'snapshot_iter_{}.caffemodel'.format(bestiter)\n",
    "net = bct.load_model(modeldir, caffemodel, gpuid = gpuid, net_prototxt = 'trainnet.prototxt')\n",
    "pyparams = pload(osp.join(modeldir, 'trainpyparams.pkl'))\n",
    "labelset=ct.get_labelset(region)\n",
    "indir_root = osp.join('/data',region)\n",
    "indir = osp.join(indir_root, test_folder)\n",
    "outdir = indir + '/coverages'\n",
    "if not os.path.isdir(outdir):\n",
    "    os.makedirs(outdir)\n",
    "\n",
    "   # load test-data\n",
    "imlist, imdict = ct.load_annotation_file(osp.join('/data',region, test_folder,'annotations.csv'), labelset)\n",
    "imlist = [osp.join('/data', region, test_folder,'images', im) for im in imlist]"
   ]
  },
  {
   "cell_type": "code",
   "execution_count": 81,
   "metadata": {
    "collapsed": false
   },
   "outputs": [
    {
     "name": "stdout",
     "output_type": "stream",
     "text": [
      "705\n"
     ]
    }
   ],
   "source": [
    "print(len(imlist))\n",
    "\n",
    "img=imlist[100]\n",
    "transformer = bct.Transformer(pyparams['im_mean'])\n",
    "imname = osp.basename(img)\n",
    "covname = osp.join(outdir, imname + '.points.csv')\n",
    "\n",
    "        \n",
    "point_anns = []\n",
    "rows = [y for y,_,_ in imdict[imname][0]]\n",
    "cols = [y for _,y,_ in imdict[imname][0]]\n",
    "        \n",
    "for row, col in zip(rows, cols):\n",
    "    point_anns.append((int(row), int(col), 0))\n",
    "    \n",
    "        # Resize & Crop\n",
    "    im = np.asarray(Image.open(img))\n",
    "\n"
   ]
  },
  {
   "cell_type": "code",
   "execution_count": 82,
   "metadata": {
    "collapsed": false
   },
   "outputs": [],
   "source": [
    "height_cm = 100\n",
    "(im, scale) = ct.coral_image_resize(im, pyparams['scaling_method'], pyparams['scaling_factor'], height_cm) \n",
    "patchlist = ct.crop_patch(im, pyparams['crop_size'], scale, point_anns, height_cm)\n"
   ]
  },
  {
   "cell_type": "code",
   "execution_count": 83,
   "metadata": {
    "collapsed": false
   },
   "outputs": [
    {
     "data": {
      "text/plain": [
       "(224, 224, 3)"
      ]
     },
     "execution_count": 83,
     "metadata": {},
     "output_type": "execute_result"
    }
   ],
   "source": [
    "patchlist[10].shape"
   ]
  },
  {
   "cell_type": "code",
   "execution_count": 84,
   "metadata": {
    "collapsed": false
   },
   "outputs": [],
   "source": [
    "import catlin_deeplearning.beijbom.beijbom_caffe_tools as bct\n",
    "[estlist, _] = bct.classify_from_imlist(patchlist, net, transformer, pyparams['batch_size'])\n"
   ]
  },
  {
   "cell_type": "code",
   "execution_count": 19,
   "metadata": {
    "collapsed": false
   },
   "outputs": [
    {
     "name": "stdout",
     "output_type": "stream",
     "text": [
      "[['/data/gbr/test_nocolor/images/12023253901.jpg', '/data/gbr/test_nocolor/images/12023281901.jpg', '/data/gbr/test_nocolor/images/15025021101.jpg', '/data/gbr/test_nocolor/images/12022122402.jpg', '/data/gbr/test_nocolor/images/10020096502.jpg', '/data/gbr/test_nocolor/images/12021088001.jpg', '/data/gbr/test_nocolor/images/15025024401.jpg', '/data/gbr/test_nocolor/images/10006105602.jpg', '/data/gbr/test_nocolor/images/15007189001.jpg', '/data/gbr/test_nocolor/images/15007190401.jpg', '/data/gbr/test_nocolor/images/12021061301.jpg', '/data/gbr/test_nocolor/images/15015023601.jpg', '/data/gbr/test_nocolor/images/12023248002.jpg', '/data/gbr/test_nocolor/images/15015078101.jpg', '/data/gbr/test_nocolor/images/10020093301.jpg', '/data/gbr/test_nocolor/images/15025041101.jpg', '/data/gbr/test_nocolor/images/15025025201.jpg', '/data/gbr/test_nocolor/images/10005034103.jpg', '/data/gbr/test_nocolor/images/15015053301.jpg', '/data/gbr/test_nocolor/images/15015020301.jpg', '/data/gbr/test_nocolor/images/15015067101.jpg', '/data/gbr/test_nocolor/images/12022109202.jpg', '/data/gbr/test_nocolor/images/15015042301.jpg', '/data/gbr/test_nocolor/images/15015006901.jpg', '/data/gbr/test_nocolor/images/15006046201.jpg', '/data/gbr/test_nocolor/images/12023238101.jpg', '/data/gbr/test_nocolor/images/12021002602.jpg', '/data/gbr/test_nocolor/images/12023245201.jpg', '/data/gbr/test_nocolor/images/10020123602.jpg', '/data/gbr/test_nocolor/images/10006116902.jpg', '/data/gbr/test_nocolor/images/15025041401.jpg', '/data/gbr/test_nocolor/images/15006025201.jpg', '/data/gbr/test_nocolor/images/12021086501.jpg', '/data/gbr/test_nocolor/images/15015029901.jpg', '/data/gbr/test_nocolor/images/10005017402.jpg', '/data/gbr/test_nocolor/images/15007188202.jpg', '/data/gbr/test_nocolor/images/15015076101.jpg', '/data/gbr/test_nocolor/images/10005083802.jpg', '/data/gbr/test_nocolor/images/12021075001.jpg', '/data/gbr/test_nocolor/images/10006121201.jpg', '/data/gbr/test_nocolor/images/15025024201.jpg', '/data/gbr/test_nocolor/images/15006017201.jpg', '/data/gbr/test_nocolor/images/10006121102.jpg', '/data/gbr/test_nocolor/images/15006005901.jpg', '/data/gbr/test_nocolor/images/15006054601.jpg', '/data/gbr/test_nocolor/images/12021029301.jpg', '/data/gbr/test_nocolor/images/10019053302.jpg', '/data/gbr/test_nocolor/images/12023238901.jpg', '/data/gbr/test_nocolor/images/12021024101.jpg', '/data/gbr/test_nocolor/images/15025025601.jpg', '/data/gbr/test_nocolor/images/12023221501.jpg', '/data/gbr/test_nocolor/images/12023222301.jpg', '/data/gbr/test_nocolor/images/10005050702.jpg', '/data/gbr/test_nocolor/images/12023230701.jpg', '/data/gbr/test_nocolor/images/12021088101.jpg', '/data/gbr/test_nocolor/images/12021009205.jpg', '/data/gbr/test_nocolor/images/15025032301.jpg', '/data/gbr/test_nocolor/images/15025031101.jpg', '/data/gbr/test_nocolor/images/12023212601.jpg', '/data/gbr/test_nocolor/images/12023192402.jpg', '/data/gbr/test_nocolor/images/12022098306.jpg', '/data/gbr/test_nocolor/images/15006015901.jpg', '/data/gbr/test_nocolor/images/15006023101.jpg', '/data/gbr/test_nocolor/images/15025037201.jpg', '/data/gbr/test_nocolor/images/15015019201.jpg', '/data/gbr/test_nocolor/images/12021052901.jpg', '/data/gbr/test_nocolor/images/15006070601.jpg', '/data/gbr/test_nocolor/images/15006006601.jpg', '/data/gbr/test_nocolor/images/12023213701.jpg', '/data/gbr/test_nocolor/images/12023247801.jpg', '/data/gbr/test_nocolor/images/15025022601.jpg', '/data/gbr/test_nocolor/images/10006114302.jpg', '/data/gbr/test_nocolor/images/15006048601.jpg', '/data/gbr/test_nocolor/images/12022191502.jpg', '/data/gbr/test_nocolor/images/15025045101.jpg', '/data/gbr/test_nocolor/images/15006067701.jpg', '/data/gbr/test_nocolor/images/12022186002.jpg', '/data/gbr/test_nocolor/images/10006110502.jpg', '/data/gbr/test_nocolor/images/15006069801.jpg', '/data/gbr/test_nocolor/images/10006106102.jpg', '/data/gbr/test_nocolor/images/10020088801.jpg', '/data/gbr/test_nocolor/images/15015002801.jpg', '/data/gbr/test_nocolor/images/15015004301.jpg', '/data/gbr/test_nocolor/images/15006081901.jpg', '/data/gbr/test_nocolor/images/12021002802.jpg', '/data/gbr/test_nocolor/images/12023216101.jpg', '/data/gbr/test_nocolor/images/15006064501.jpg', '/data/gbr/test_nocolor/images/12023214401.jpg', '/data/gbr/test_nocolor/images/15015006601.jpg', '/data/gbr/test_nocolor/images/15006041201.jpg', '/data/gbr/test_nocolor/images/10005043302.jpg', '/data/gbr/test_nocolor/images/12021080601.jpg', '/data/gbr/test_nocolor/images/12021080701.jpg', '/data/gbr/test_nocolor/images/12023257502.jpg', '/data/gbr/test_nocolor/images/10006120102.jpg', '/data/gbr/test_nocolor/images/10019003102.jpg', '/data/gbr/test_nocolor/images/15025027801.jpg', '/data/gbr/test_nocolor/images/15006085001.jpg', '/data/gbr/test_nocolor/images/15006025801.jpg', '/data/gbr/test_nocolor/images/15006026301.jpg', '/data/gbr/test_nocolor/images/15025047301.jpg', '/data/gbr/test_nocolor/images/15015002701.jpg', '/data/gbr/test_nocolor/images/15025019701.jpg', '/data/gbr/test_nocolor/images/15015049101.jpg', '/data/gbr/test_nocolor/images/10005035402.jpg', '/data/gbr/test_nocolor/images/15025019201.jpg', '/data/gbr/test_nocolor/images/15025017901.jpg', '/data/gbr/test_nocolor/images/15025051101.jpg', '/data/gbr/test_nocolor/images/10019049602.jpg', '/data/gbr/test_nocolor/images/15025041601.jpg', '/data/gbr/test_nocolor/images/15006062101.jpg', '/data/gbr/test_nocolor/images/15015056401.jpg', '/data/gbr/test_nocolor/images/15015050401.jpg', '/data/gbr/test_nocolor/images/10019056802.jpg', '/data/gbr/test_nocolor/images/15015062201.jpg', '/data/gbr/test_nocolor/images/15025028301.jpg', '/data/gbr/test_nocolor/images/15015047001.jpg', '/data/gbr/test_nocolor/images/10005039302.jpg', '/data/gbr/test_nocolor/images/10005020502.jpg', '/data/gbr/test_nocolor/images/15015016501.jpg', '/data/gbr/test_nocolor/images/10020115601.jpg', '/data/gbr/test_nocolor/images/12023252001.jpg', '/data/gbr/test_nocolor/images/15015047701.jpg', '/data/gbr/test_nocolor/images/15015079401.jpg', '/data/gbr/test_nocolor/images/10006112502.jpg', '/data/gbr/test_nocolor/images/15007190302.jpg', '/data/gbr/test_nocolor/images/15006087101.jpg', '/data/gbr/test_nocolor/images/12021094201.jpg', '/data/gbr/test_nocolor/images/15015026901.jpg', '/data/gbr/test_nocolor/images/12023220801.jpg', '/data/gbr/test_nocolor/images/15006007401.jpg', '/data/gbr/test_nocolor/images/10006110601.jpg', '/data/gbr/test_nocolor/images/15015004201.jpg', '/data/gbr/test_nocolor/images/15015033601.jpg', '/data/gbr/test_nocolor/images/15015010601.jpg', '/data/gbr/test_nocolor/images/15015051001.jpg', '/data/gbr/test_nocolor/images/15025020701.jpg', '/data/gbr/test_nocolor/images/12022140402.jpg', '/data/gbr/test_nocolor/images/15015042801.jpg', '/data/gbr/test_nocolor/images/15007187902.jpg', '/data/gbr/test_nocolor/images/12023253501.jpg', '/data/gbr/test_nocolor/images/10006118901.jpg', '/data/gbr/test_nocolor/images/12021080801.jpg', '/data/gbr/test_nocolor/images/12021082001.jpg', '/data/gbr/test_nocolor/images/12021041801.jpg', '/data/gbr/test_nocolor/images/15006033001.jpg', '/data/gbr/test_nocolor/images/12023224301.jpg', '/data/gbr/test_nocolor/images/12023230401.jpg', '/data/gbr/test_nocolor/images/12021076902.jpg', '/data/gbr/test_nocolor/images/12021081901.jpg', '/data/gbr/test_nocolor/images/12022113602.jpg', '/data/gbr/test_nocolor/images/15007182702.jpg', '/data/gbr/test_nocolor/images/12022110602.jpg', '/data/gbr/test_nocolor/images/15015067201.jpg', '/data/gbr/test_nocolor/images/15006028201.jpg', '/data/gbr/test_nocolor/images/10006123201.jpg', '/data/gbr/test_nocolor/images/10005039902.jpg', '/data/gbr/test_nocolor/images/10005045402.jpg', '/data/gbr/test_nocolor/images/12022126102.jpg', '/data/gbr/test_nocolor/images/10005029607.jpg', '/data/gbr/test_nocolor/images/15015082501.jpg', '/data/gbr/test_nocolor/images/12023196401.jpg', '/data/gbr/test_nocolor/images/15015031401.jpg', '/data/gbr/test_nocolor/images/10005034402.jpg', '/data/gbr/test_nocolor/images/15006022501.jpg', '/data/gbr/test_nocolor/images/12023253602.jpg', '/data/gbr/test_nocolor/images/12021061202.jpg', '/data/gbr/test_nocolor/images/15015047801.jpg', '/data/gbr/test_nocolor/images/10006094101.jpg', '/data/gbr/test_nocolor/images/10005035502.jpg', '/data/gbr/test_nocolor/images/15025040501.jpg', '/data/gbr/test_nocolor/images/10005080802.jpg', '/data/gbr/test_nocolor/images/12023236301.jpg', '/data/gbr/test_nocolor/images/10006094201.jpg', '/data/gbr/test_nocolor/images/15015059001.jpg', '/data/gbr/test_nocolor/images/15006007001.jpg', '/data/gbr/test_nocolor/images/10006094502.jpg', '/data/gbr/test_nocolor/images/15015010701.jpg', '/data/gbr/test_nocolor/images/10020146102.jpg', '/data/gbr/test_nocolor/images/15015049401.jpg', '/data/gbr/test_nocolor/images/12021094602.jpg', '/data/gbr/test_nocolor/images/15015049901.jpg', '/data/gbr/test_nocolor/images/15007185302.jpg', '/data/gbr/test_nocolor/images/15006075801.jpg', '/data/gbr/test_nocolor/images/15015050001.jpg', '/data/gbr/test_nocolor/images/12021032901.jpg', '/data/gbr/test_nocolor/images/10019083202.jpg', '/data/gbr/test_nocolor/images/12023202001.jpg', '/data/gbr/test_nocolor/images/15025043201.jpg', '/data/gbr/test_nocolor/images/15025045701.jpg', '/data/gbr/test_nocolor/images/15025017501.jpg', '/data/gbr/test_nocolor/images/15025043601.jpg', '/data/gbr/test_nocolor/images/12021085601.jpg', '/data/gbr/test_nocolor/images/15006017601.jpg', '/data/gbr/test_nocolor/images/10005091402.jpg', '/data/gbr/test_nocolor/images/10020118801.jpg', '/data/gbr/test_nocolor/images/15015012701.jpg', '/data/gbr/test_nocolor/images/12021031802.jpg', '/data/gbr/test_nocolor/images/15015039001.jpg', '/data/gbr/test_nocolor/images/15015010801.jpg', '/data/gbr/test_nocolor/images/10006105402.jpg', '/data/gbr/test_nocolor/images/15025019301.jpg', '/data/gbr/test_nocolor/images/15006010101.jpg', '/data/gbr/test_nocolor/images/12021036002.jpg', '/data/gbr/test_nocolor/images/12021058201.jpg', '/data/gbr/test_nocolor/images/15006053901.jpg', '/data/gbr/test_nocolor/images/10019083001.jpg', '/data/gbr/test_nocolor/images/15006016601.jpg', '/data/gbr/test_nocolor/images/10006105002.jpg', '/data/gbr/test_nocolor/images/15025043401.jpg', '/data/gbr/test_nocolor/images/15015053201.jpg', '/data/gbr/test_nocolor/images/10005034008.jpg', '/data/gbr/test_nocolor/images/15015048201.jpg', '/data/gbr/test_nocolor/images/15006055401.jpg', '/data/gbr/test_nocolor/images/15006013101.jpg', '/data/gbr/test_nocolor/images/15006026001.jpg', '/data/gbr/test_nocolor/images/15006029201.jpg', '/data/gbr/test_nocolor/images/15015050501.jpg', '/data/gbr/test_nocolor/images/15007190101.jpg', '/data/gbr/test_nocolor/images/10020098002.jpg', '/data/gbr/test_nocolor/images/10005040308.jpg', '/data/gbr/test_nocolor/images/15025028601.jpg', '/data/gbr/test_nocolor/images/15006006901.jpg', '/data/gbr/test_nocolor/images/15025041201.jpg', '/data/gbr/test_nocolor/images/12023197302.jpg', '/data/gbr/test_nocolor/images/10006110901.jpg', '/data/gbr/test_nocolor/images/12023266502.jpg', '/data/gbr/test_nocolor/images/15025018001.jpg', '/data/gbr/test_nocolor/images/12022145202.jpg', '/data/gbr/test_nocolor/images/15025017001.jpg', '/data/gbr/test_nocolor/images/15025019001.jpg', '/data/gbr/test_nocolor/images/10019063002.jpg', '/data/gbr/test_nocolor/images/15015004101.jpg', '/data/gbr/test_nocolor/images/15006058501.jpg', '/data/gbr/test_nocolor/images/12021074401.jpg', '/data/gbr/test_nocolor/images/15025028901.jpg', '/data/gbr/test_nocolor/images/15006083001.jpg', '/data/gbr/test_nocolor/images/12022125802.jpg', '/data/gbr/test_nocolor/images/15015058401.jpg', '/data/gbr/test_nocolor/images/15025020201.jpg', '/data/gbr/test_nocolor/images/12021023902.jpg', '/data/gbr/test_nocolor/images/12022175702.jpg', '/data/gbr/test_nocolor/images/12022099702.jpg', '/data/gbr/test_nocolor/images/15015057701.jpg', '/data/gbr/test_nocolor/images/15015081401.jpg', '/data/gbr/test_nocolor/images/10005084202.jpg', '/data/gbr/test_nocolor/images/12021066302.jpg', '/data/gbr/test_nocolor/images/10006098302.jpg', '/data/gbr/test_nocolor/images/15006022001.jpg', '/data/gbr/test_nocolor/images/15025042001.jpg', '/data/gbr/test_nocolor/images/10019012202.jpg', '/data/gbr/test_nocolor/images/15015039801.jpg', '/data/gbr/test_nocolor/images/15006006501.jpg', '/data/gbr/test_nocolor/images/10019019501.jpg', '/data/gbr/test_nocolor/images/15015075601.jpg', '/data/gbr/test_nocolor/images/12022133002.jpg', '/data/gbr/test_nocolor/images/15006087601.jpg', '/data/gbr/test_nocolor/images/15006075201.jpg', '/data/gbr/test_nocolor/images/10006110501.jpg', '/data/gbr/test_nocolor/images/12023212801.jpg', '/data/gbr/test_nocolor/images/12021040601.jpg', '/data/gbr/test_nocolor/images/15015021401.jpg', '/data/gbr/test_nocolor/images/15015049301.jpg', '/data/gbr/test_nocolor/images/12023238201.jpg', '/data/gbr/test_nocolor/images/15025020101.jpg', '/data/gbr/test_nocolor/images/12023217901.jpg', '/data/gbr/test_nocolor/images/15015006401.jpg', '/data/gbr/test_nocolor/images/15006022201.jpg', '/data/gbr/test_nocolor/images/10005060102.jpg', '/data/gbr/test_nocolor/images/12022123302.jpg', '/data/gbr/test_nocolor/images/10005034403.jpg', '/data/gbr/test_nocolor/images/15006055301.jpg', '/data/gbr/test_nocolor/images/12022152802.jpg', '/data/gbr/test_nocolor/images/15015004401.jpg', '/data/gbr/test_nocolor/images/15006075401.jpg', '/data/gbr/test_nocolor/images/12021088701.jpg', '/data/gbr/test_nocolor/images/12022186102.jpg', '/data/gbr/test_nocolor/images/10006125902.jpg', '/data/gbr/test_nocolor/images/12023214301.jpg', '/data/gbr/test_nocolor/images/15006006201.jpg', '/data/gbr/test_nocolor/images/15015047501.jpg', '/data/gbr/test_nocolor/images/10006114202.jpg', '/data/gbr/test_nocolor/images/12023211802.jpg', '/data/gbr/test_nocolor/images/10005063303.jpg', '/data/gbr/test_nocolor/images/12023203801.jpg', '/data/gbr/test_nocolor/images/12023214601.jpg', '/data/gbr/test_nocolor/images/15015048601.jpg', '/data/gbr/test_nocolor/images/15006050201.jpg', '/data/gbr/test_nocolor/images/15006041501.jpg', '/data/gbr/test_nocolor/images/15015005801.jpg', '/data/gbr/test_nocolor/images/12021011401.jpg', '/data/gbr/test_nocolor/images/15006070501.jpg', '/data/gbr/test_nocolor/images/12023208901.jpg', '/data/gbr/test_nocolor/images/15006003901.jpg', '/data/gbr/test_nocolor/images/15006016001.jpg', '/data/gbr/test_nocolor/images/15006047901.jpg', '/data/gbr/test_nocolor/images/10020090701.jpg', '/data/gbr/test_nocolor/images/15006024001.jpg', '/data/gbr/test_nocolor/images/15006026201.jpg', '/data/gbr/test_nocolor/images/15006007701.jpg', '/data/gbr/test_nocolor/images/15007189602.jpg', '/data/gbr/test_nocolor/images/15006013801.jpg', '/data/gbr/test_nocolor/images/15015062101.jpg', '/data/gbr/test_nocolor/images/12023222201.jpg', '/data/gbr/test_nocolor/images/15007189902.jpg', '/data/gbr/test_nocolor/images/15025038001.jpg', '/data/gbr/test_nocolor/images/15006019601.jpg', '/data/gbr/test_nocolor/images/10006112801.jpg', '/data/gbr/test_nocolor/images/15015026801.jpg', '/data/gbr/test_nocolor/images/12021002702.jpg', '/data/gbr/test_nocolor/images/15007188301.jpg', '/data/gbr/test_nocolor/images/15025045801.jpg', '/data/gbr/test_nocolor/images/15006021501.jpg', '/data/gbr/test_nocolor/images/15015045801.jpg', '/data/gbr/test_nocolor/images/15015058801.jpg', '/data/gbr/test_nocolor/images/12023212501.jpg', '/data/gbr/test_nocolor/images/15007189801.jpg', '/data/gbr/test_nocolor/images/12021022701.jpg', '/data/gbr/test_nocolor/images/15015003901.jpg', '/data/gbr/test_nocolor/images/10006102301.jpg', '/data/gbr/test_nocolor/images/12023279201.jpg', '/data/gbr/test_nocolor/images/10005060002.jpg', '/data/gbr/test_nocolor/images/15015047401.jpg', '/data/gbr/test_nocolor/images/12022128702.jpg', '/data/gbr/test_nocolor/images/12023212001.jpg', '/data/gbr/test_nocolor/images/12021022601.jpg', '/data/gbr/test_nocolor/images/15006061001.jpg', '/data/gbr/test_nocolor/images/15006077801.jpg', '/data/gbr/test_nocolor/images/15025017401.jpg', '/data/gbr/test_nocolor/images/15006086501.jpg', '/data/gbr/test_nocolor/images/12021006102.jpg', '/data/gbr/test_nocolor/images/15025032801.jpg', '/data/gbr/test_nocolor/images/10019081502.jpg', '/data/gbr/test_nocolor/images/12023231401.jpg', '/data/gbr/test_nocolor/images/15015075701.jpg', '/data/gbr/test_nocolor/images/10006111001.jpg', '/data/gbr/test_nocolor/images/15007182802.jpg', '/data/gbr/test_nocolor/images/15006056501.jpg', '/data/gbr/test_nocolor/images/15006067601.jpg', '/data/gbr/test_nocolor/images/12021081101.jpg', '/data/gbr/test_nocolor/images/10005042205.jpg', '/data/gbr/test_nocolor/images/15015076001.jpg', '/data/gbr/test_nocolor/images/15025041301.jpg', '/data/gbr/test_nocolor/images/12023213501.jpg', '/data/gbr/test_nocolor/images/15025030001.jpg', '/data/gbr/test_nocolor/images/10005011302.jpg', '/data/gbr/test_nocolor/images/12022176502.jpg', '/data/gbr/test_nocolor/images/12023221601.jpg', '/data/gbr/test_nocolor/images/15025020001.jpg', '/data/gbr/test_nocolor/images/15025038301.jpg', '/data/gbr/test_nocolor/images/12023213302.jpg', '/data/gbr/test_nocolor/images/10005013402.jpg', '/data/gbr/test_nocolor/images/15006054301.jpg', '/data/gbr/test_nocolor/images/15015024301.jpg', '/data/gbr/test_nocolor/images/12021039001.jpg', '/data/gbr/test_nocolor/images/10006114502.jpg', '/data/gbr/test_nocolor/images/15006074601.jpg', '/data/gbr/test_nocolor/images/12023262801.jpg', '/data/gbr/test_nocolor/images/12021077201.jpg', '/data/gbr/test_nocolor/images/12021012501.jpg', '/data/gbr/test_nocolor/images/15015021001.jpg', '/data/gbr/test_nocolor/images/15015048001.jpg', '/data/gbr/test_nocolor/images/15015029001.jpg', '/data/gbr/test_nocolor/images/12023202702.jpg', '/data/gbr/test_nocolor/images/15015050201.jpg', '/data/gbr/test_nocolor/images/10006118302.jpg', '/data/gbr/test_nocolor/images/10019083201.jpg', '/data/gbr/test_nocolor/images/10005034202.jpg', '/data/gbr/test_nocolor/images/15006014801.jpg', '/data/gbr/test_nocolor/images/15025022401.jpg', '/data/gbr/test_nocolor/images/12021005302.jpg', '/data/gbr/test_nocolor/images/15006076301.jpg', '/data/gbr/test_nocolor/images/12023288301.jpg', '/data/gbr/test_nocolor/images/15006048901.jpg', '/data/gbr/test_nocolor/images/10005045207.jpg', '/data/gbr/test_nocolor/images/12023238801.jpg', '/data/gbr/test_nocolor/images/15006055501.jpg', '/data/gbr/test_nocolor/images/15025046501.jpg', '/data/gbr/test_nocolor/images/10019055702.jpg', '/data/gbr/test_nocolor/images/10006118501.jpg', '/data/gbr/test_nocolor/images/12023211602.jpg', '/data/gbr/test_nocolor/images/12023229001.jpg', '/data/gbr/test_nocolor/images/15025043901.jpg', '/data/gbr/test_nocolor/images/15015020401.jpg', '/data/gbr/test_nocolor/images/10005017207.jpg', '/data/gbr/test_nocolor/images/15007181601.jpg', '/data/gbr/test_nocolor/images/12022123402.jpg', '/data/gbr/test_nocolor/images/15006070201.jpg', '/data/gbr/test_nocolor/images/12022098106.jpg', '/data/gbr/test_nocolor/images/12021001302.jpg', '/data/gbr/test_nocolor/images/15025021801.jpg', '/data/gbr/test_nocolor/images/10019058301.jpg', '/data/gbr/test_nocolor/images/15006077901.jpg', '/data/gbr/test_nocolor/images/15006060401.jpg', '/data/gbr/test_nocolor/images/15015038601.jpg', '/data/gbr/test_nocolor/images/10005006202.jpg', '/data/gbr/test_nocolor/images/15025047401.jpg', '/data/gbr/test_nocolor/images/10005043103.jpg', '/data/gbr/test_nocolor/images/10019062902.jpg', '/data/gbr/test_nocolor/images/10019007002.jpg', '/data/gbr/test_nocolor/images/15007190002.jpg', '/data/gbr/test_nocolor/images/15006089001.jpg', '/data/gbr/test_nocolor/images/15015051801.jpg', '/data/gbr/test_nocolor/images/10006110401.jpg', '/data/gbr/test_nocolor/images/12022180802.jpg', '/data/gbr/test_nocolor/images/15015080501.jpg', '/data/gbr/test_nocolor/images/12023275401.jpg', '/data/gbr/test_nocolor/images/10006106402.jpg', '/data/gbr/test_nocolor/images/12023286501.jpg', '/data/gbr/test_nocolor/images/15015007301.jpg', '/data/gbr/test_nocolor/images/15015053101.jpg', '/data/gbr/test_nocolor/images/10005042505.jpg', '/data/gbr/test_nocolor/images/15025023301.jpg', '/data/gbr/test_nocolor/images/15025045601.jpg', '/data/gbr/test_nocolor/images/15006010701.jpg', '/data/gbr/test_nocolor/images/12021084001.jpg', '/data/gbr/test_nocolor/images/10006098602.jpg', '/data/gbr/test_nocolor/images/12021013701.jpg', '/data/gbr/test_nocolor/images/15006047501.jpg', '/data/gbr/test_nocolor/images/15015051601.jpg', '/data/gbr/test_nocolor/images/15006016501.jpg', '/data/gbr/test_nocolor/images/15025026001.jpg', '/data/gbr/test_nocolor/images/15025019401.jpg', '/data/gbr/test_nocolor/images/15006024701.jpg', '/data/gbr/test_nocolor/images/15007189702.jpg', '/data/gbr/test_nocolor/images/15015020101.jpg', '/data/gbr/test_nocolor/images/15006002401.jpg', '/data/gbr/test_nocolor/images/12022186202.jpg', '/data/gbr/test_nocolor/images/10006114702.jpg', '/data/gbr/test_nocolor/images/15006051101.jpg', '/data/gbr/test_nocolor/images/15025019501.jpg', '/data/gbr/test_nocolor/images/15015055101.jpg', '/data/gbr/test_nocolor/images/10019060302.jpg', '/data/gbr/test_nocolor/images/10019019402.jpg', '/data/gbr/test_nocolor/images/15006023401.jpg', '/data/gbr/test_nocolor/images/15025044901.jpg', '/data/gbr/test_nocolor/images/15025031601.jpg', '/data/gbr/test_nocolor/images/10006094102.jpg', '/data/gbr/test_nocolor/images/12021061602.jpg', '/data/gbr/test_nocolor/images/12023214201.jpg', '/data/gbr/test_nocolor/images/15006023601.jpg', '/data/gbr/test_nocolor/images/12021078701.jpg', '/data/gbr/test_nocolor/images/12023272501.jpg', '/data/gbr/test_nocolor/images/12021001602.jpg', '/data/gbr/test_nocolor/images/15006068201.jpg', '/data/gbr/test_nocolor/images/15025016901.jpg', '/data/gbr/test_nocolor/images/15006080501.jpg', '/data/gbr/test_nocolor/images/12022137502.jpg', '/data/gbr/test_nocolor/images/12022121502.jpg', '/data/gbr/test_nocolor/images/15006028001.jpg', '/data/gbr/test_nocolor/images/10020088601.jpg', '/data/gbr/test_nocolor/images/15006075101.jpg', '/data/gbr/test_nocolor/images/12021062001.jpg', '/data/gbr/test_nocolor/images/10005024502.jpg', '/data/gbr/test_nocolor/images/10005039102.jpg', '/data/gbr/test_nocolor/images/15007180102.jpg', '/data/gbr/test_nocolor/images/15015051701.jpg', '/data/gbr/test_nocolor/images/15006064701.jpg', '/data/gbr/test_nocolor/images/15025006101.jpg', '/data/gbr/test_nocolor/images/12022137102.jpg', '/data/gbr/test_nocolor/images/15006022901.jpg', '/data/gbr/test_nocolor/images/15006027501.jpg', '/data/gbr/test_nocolor/images/15006011801.jpg', '/data/gbr/test_nocolor/images/15025031401.jpg', '/data/gbr/test_nocolor/images/15006028301.jpg', '/data/gbr/test_nocolor/images/10005043303.jpg', '/data/gbr/test_nocolor/images/15015076301.jpg', '/data/gbr/test_nocolor/images/15015066901.jpg', '/data/gbr/test_nocolor/images/15025021301.jpg', '/data/gbr/test_nocolor/images/15025050101.jpg', '/data/gbr/test_nocolor/images/15015024601.jpg', '/data/gbr/test_nocolor/images/15006012901.jpg', '/data/gbr/test_nocolor/images/15025041501.jpg', '/data/gbr/test_nocolor/images/12023218601.jpg', '/data/gbr/test_nocolor/images/12023258801.jpg', '/data/gbr/test_nocolor/images/12021018501.jpg', '/data/gbr/test_nocolor/images/12021090301.jpg', '/data/gbr/test_nocolor/images/12021001802.jpg', '/data/gbr/test_nocolor/images/12023194701.jpg', '/data/gbr/test_nocolor/images/10020110801.jpg', '/data/gbr/test_nocolor/images/15007190601.jpg', '/data/gbr/test_nocolor/images/15006026401.jpg', '/data/gbr/test_nocolor/images/15025045001.jpg', '/data/gbr/test_nocolor/images/15006006701.jpg', '/data/gbr/test_nocolor/images/15025049201.jpg', '/data/gbr/test_nocolor/images/12022141302.jpg', '/data/gbr/test_nocolor/images/12023236801.jpg', '/data/gbr/test_nocolor/images/15025019601.jpg', '/data/gbr/test_nocolor/images/15006017301.jpg', '/data/gbr/test_nocolor/images/15015081901.jpg', '/data/gbr/test_nocolor/images/12021026501.jpg', '/data/gbr/test_nocolor/images/12021055901.jpg', '/data/gbr/test_nocolor/images/12022098302.jpg', '/data/gbr/test_nocolor/images/10005026907.jpg', '/data/gbr/test_nocolor/images/15006087701.jpg', '/data/gbr/test_nocolor/images/10006110801.jpg', '/data/gbr/test_nocolor/images/15006045501.jpg', '/data/gbr/test_nocolor/images/15006014701.jpg', '/data/gbr/test_nocolor/images/10019060303.jpg', '/data/gbr/test_nocolor/images/15006029001.jpg', '/data/gbr/test_nocolor/images/10020121901.jpg', '/data/gbr/test_nocolor/images/10005015802.jpg', '/data/gbr/test_nocolor/images/15015042701.jpg', '/data/gbr/test_nocolor/images/15006082001.jpg', '/data/gbr/test_nocolor/images/15006061201.jpg', '/data/gbr/test_nocolor/images/12023235501.jpg', '/data/gbr/test_nocolor/images/12021052801.jpg', '/data/gbr/test_nocolor/images/10006094801.jpg', '/data/gbr/test_nocolor/images/12023247401.jpg', '/data/gbr/test_nocolor/images/15006019701.jpg', '/data/gbr/test_nocolor/images/12021010302.jpg', '/data/gbr/test_nocolor/images/12021047801.jpg', '/data/gbr/test_nocolor/images/15006087401.jpg', '/data/gbr/test_nocolor/images/15006011201.jpg', '/data/gbr/test_nocolor/images/10005026002.jpg', '/data/gbr/test_nocolor/images/15006071401.jpg', '/data/gbr/test_nocolor/images/15015067901.jpg', '/data/gbr/test_nocolor/images/15015075801.jpg', '/data/gbr/test_nocolor/images/10005039002.jpg', '/data/gbr/test_nocolor/images/12023260802.jpg', '/data/gbr/test_nocolor/images/12023253201.jpg', '/data/gbr/test_nocolor/images/15015006701.jpg', '/data/gbr/test_nocolor/images/10005035602.jpg', '/data/gbr/test_nocolor/images/15025028701.jpg', '/data/gbr/test_nocolor/images/15015076201.jpg', '/data/gbr/test_nocolor/images/10006118801.jpg', '/data/gbr/test_nocolor/images/10005034303.jpg', '/data/gbr/test_nocolor/images/15025036101.jpg', '/data/gbr/test_nocolor/images/12023203002.jpg', '/data/gbr/test_nocolor/images/15025020601.jpg', '/data/gbr/test_nocolor/images/15025040701.jpg', '/data/gbr/test_nocolor/images/15006016201.jpg', '/data/gbr/test_nocolor/images/15006022401.jpg', '/data/gbr/test_nocolor/images/15006085101.jpg', '/data/gbr/test_nocolor/images/12023254801.jpg', '/data/gbr/test_nocolor/images/12021057302.jpg', '/data/gbr/test_nocolor/images/15006058601.jpg', '/data/gbr/test_nocolor/images/15015081701.jpg', '/data/gbr/test_nocolor/images/12022099502.jpg', '/data/gbr/test_nocolor/images/12023234501.jpg', '/data/gbr/test_nocolor/images/15025026901.jpg', '/data/gbr/test_nocolor/images/15015048901.jpg', '/data/gbr/test_nocolor/images/15025020301.jpg', '/data/gbr/test_nocolor/images/10005016302.jpg', '/data/gbr/test_nocolor/images/10006102302.jpg', '/data/gbr/test_nocolor/images/12021066501.jpg', '/data/gbr/test_nocolor/images/15015049501.jpg', '/data/gbr/test_nocolor/images/12021074601.jpg', '/data/gbr/test_nocolor/images/12021021501.jpg', '/data/gbr/test_nocolor/images/12023229401.jpg', '/data/gbr/test_nocolor/images/12021028001.jpg', '/data/gbr/test_nocolor/images/10006121002.jpg', '/data/gbr/test_nocolor/images/12021086801.jpg', '/data/gbr/test_nocolor/images/10005089805.jpg', '/data/gbr/test_nocolor/images/12023239901.jpg', '/data/gbr/test_nocolor/images/15015042101.jpg', '/data/gbr/test_nocolor/images/12023214701.jpg', '/data/gbr/test_nocolor/images/15025045301.jpg', '/data/gbr/test_nocolor/images/15006073201.jpg', '/data/gbr/test_nocolor/images/12023222101.jpg', '/data/gbr/test_nocolor/images/12021094901.jpg', '/data/gbr/test_nocolor/images/15006065001.jpg', '/data/gbr/test_nocolor/images/12022187302.jpg', '/data/gbr/test_nocolor/images/10005084302.jpg', '/data/gbr/test_nocolor/images/10020154501.jpg', '/data/gbr/test_nocolor/images/15025049901.jpg', '/data/gbr/test_nocolor/images/12023223202.jpg', '/data/gbr/test_nocolor/images/10005046502.jpg', '/data/gbr/test_nocolor/images/12021036902.jpg', '/data/gbr/test_nocolor/images/15006087201.jpg', '/data/gbr/test_nocolor/images/15025022701.jpg', '/data/gbr/test_nocolor/images/15015075001.jpg', '/data/gbr/test_nocolor/images/12022175102.jpg', '/data/gbr/test_nocolor/images/15025018301.jpg', '/data/gbr/test_nocolor/images/12023218101.jpg', '/data/gbr/test_nocolor/images/15015051901.jpg', '/data/gbr/test_nocolor/images/10006125802.jpg', '/data/gbr/test_nocolor/images/15006025101.jpg', '/data/gbr/test_nocolor/images/12021078401.jpg', '/data/gbr/test_nocolor/images/15006026101.jpg', '/data/gbr/test_nocolor/images/15025046301.jpg', '/data/gbr/test_nocolor/images/15015027901.jpg', '/data/gbr/test_nocolor/images/10005084105.jpg', '/data/gbr/test_nocolor/images/15006048801.jpg', '/data/gbr/test_nocolor/images/12023214501.jpg', '/data/gbr/test_nocolor/images/12021095401.jpg', '/data/gbr/test_nocolor/images/15006010901.jpg', '/data/gbr/test_nocolor/images/10019039401.jpg', '/data/gbr/test_nocolor/images/12021064602.jpg', '/data/gbr/test_nocolor/images/12021088901.jpg', '/data/gbr/test_nocolor/images/10006106001.jpg', '/data/gbr/test_nocolor/images/12021076901.jpg', '/data/gbr/test_nocolor/images/10006121301.jpg', '/data/gbr/test_nocolor/images/12022187002.jpg', '/data/gbr/test_nocolor/images/15015067001.jpg', '/data/gbr/test_nocolor/images/15015028301.jpg', '/data/gbr/test_nocolor/images/15015052901.jpg', '/data/gbr/test_nocolor/images/15006054801.jpg', '/data/gbr/test_nocolor/images/15006065601.jpg', '/data/gbr/test_nocolor/images/15025045201.jpg', '/data/gbr/test_nocolor/images/12023220701.jpg', '/data/gbr/test_nocolor/images/15015068501.jpg', '/data/gbr/test_nocolor/images/15025022301.jpg', '/data/gbr/test_nocolor/images/12022100002.jpg', '/data/gbr/test_nocolor/images/12022158902.jpg', '/data/gbr/test_nocolor/images/12023235301.jpg', '/data/gbr/test_nocolor/images/15025030401.jpg', '/data/gbr/test_nocolor/images/15007190502.jpg', '/data/gbr/test_nocolor/images/15015009901.jpg', '/data/gbr/test_nocolor/images/15006087801.jpg', '/data/gbr/test_nocolor/images/15006005701.jpg', '/data/gbr/test_nocolor/images/12021023702.jpg', '/data/gbr/test_nocolor/images/12021066101.jpg', '/data/gbr/test_nocolor/images/15015068401.jpg', '/data/gbr/test_nocolor/images/15025040601.jpg', '/data/gbr/test_nocolor/images/15025043701.jpg', '/data/gbr/test_nocolor/images/10006125702.jpg', '/data/gbr/test_nocolor/images/12022191102.jpg', '/data/gbr/test_nocolor/images/10006093807.jpg', '/data/gbr/test_nocolor/images/15025017201.jpg', '/data/gbr/test_nocolor/images/10006106902.jpg', '/data/gbr/test_nocolor/images/12022175302.jpg', '/data/gbr/test_nocolor/images/10005082703.jpg', '/data/gbr/test_nocolor/images/15015040501.jpg', '/data/gbr/test_nocolor/images/12021008401.jpg', '/data/gbr/test_nocolor/images/12021083501.jpg', '/data/gbr/test_nocolor/images/10005034302.jpg', '/data/gbr/test_nocolor/images/10005043502.jpg', '/data/gbr/test_nocolor/images/12023253401.jpg', '/data/gbr/test_nocolor/images/12023208701.jpg', '/data/gbr/test_nocolor/images/12022097302.jpg', '/data/gbr/test_nocolor/images/10005025802.jpg', '/data/gbr/test_nocolor/images/15006012201.jpg', '/data/gbr/test_nocolor/images/10020095301.jpg', '/data/gbr/test_nocolor/images/10019012002.jpg', '/data/gbr/test_nocolor/images/12023215202.jpg', '/data/gbr/test_nocolor/images/15025005901.jpg', '/data/gbr/test_nocolor/images/15015047601.jpg', '/data/gbr/test_nocolor/images/10006112702.jpg', '/data/gbr/test_nocolor/images/15025006601.jpg', '/data/gbr/test_nocolor/images/10005084205.jpg', '/data/gbr/test_nocolor/images/15006087501.jpg', '/data/gbr/test_nocolor/images/15015050301.jpg', '/data/gbr/test_nocolor/images/15025046201.jpg', '/data/gbr/test_nocolor/images/15006071801.jpg', '/data/gbr/test_nocolor/images/10020117502.jpg', '/data/gbr/test_nocolor/images/12021078801.jpg', '/data/gbr/test_nocolor/images/12023221801.jpg', '/data/gbr/test_nocolor/images/15025045501.jpg', '/data/gbr/test_nocolor/images/15015027601.jpg', '/data/gbr/test_nocolor/images/10006102501.jpg', '/data/gbr/test_nocolor/images/15015011701.jpg', '/data/gbr/test_nocolor/images/15025018401.jpg', '/data/gbr/test_nocolor/images/10005010802.jpg', '/data/gbr/test_nocolor/images/15015048301.jpg', '/data/gbr/test_nocolor/images/10019001502.jpg', '/data/gbr/test_nocolor/images/12021057402.jpg', '/data/gbr/test_nocolor/images/10006120902.jpg', '/data/gbr/test_nocolor/images/10005034102.jpg', '/data/gbr/test_nocolor/images/15015059901.jpg', '/data/gbr/test_nocolor/images/15006028701.jpg', '/data/gbr/test_nocolor/images/15006028801.jpg', '/data/gbr/test_nocolor/images/15025040801.jpg', '/data/gbr/test_nocolor/images/15015076501.jpg', '/data/gbr/test_nocolor/images/15015050101.jpg', '/data/gbr/test_nocolor/images/15007183902.jpg', '/data/gbr/test_nocolor/images/12023285802.jpg', '/data/gbr/test_nocolor/images/15006010801.jpg', '/data/gbr/test_nocolor/images/15025050401.jpg', '/data/gbr/test_nocolor/images/15006016301.jpg', '/data/gbr/test_nocolor/images/15025025501.jpg', '/data/gbr/test_nocolor/images/15006011501.jpg', '/data/gbr/test_nocolor/images/12021061102.jpg', '/data/gbr/test_nocolor/images/15025033801.jpg', '/data/gbr/test_nocolor/images/12021092601.jpg', '/data/gbr/test_nocolor/images/15025006201.jpg', '/data/gbr/test_nocolor/images/15025016501.jpg', '/data/gbr/test_nocolor/images/15025036801.jpg', '/data/gbr/test_nocolor/images/15025022501.jpg', '/data/gbr/test_nocolor/images/15025045901.jpg', '/data/gbr/test_nocolor/images/10006093001.jpg', '/data/gbr/test_nocolor/images/12021081501.jpg', '/data/gbr/test_nocolor/images/15025016801.jpg', '/data/gbr/test_nocolor/images/12023235901.jpg', '/data/gbr/test_nocolor/images/15006014201.jpg', '/data/gbr/test_nocolor/images/15025026501.jpg', '/data/gbr/test_nocolor/images/15015023201.jpg', '/data/gbr/test_nocolor/images/12022181002.jpg', '/data/gbr/test_nocolor/images/15006037901.jpg', '/data/gbr/test_nocolor/images/15006041701.jpg', '/data/gbr/test_nocolor/images/10005083702.jpg', '/data/gbr/test_nocolor/images/15015011201.jpg', '/data/gbr/test_nocolor/images/12021057502.jpg', '/data/gbr/test_nocolor/images/15015049001.jpg', '/data/gbr/test_nocolor/images/15025051801.jpg', '/data/gbr/test_nocolor/images/12022098502.jpg', '/data/gbr/test_nocolor/images/12023236701.jpg', '/data/gbr/test_nocolor/images/12022184002.jpg', '/data/gbr/test_nocolor/images/12021092801.jpg', '/data/gbr/test_nocolor/images/10006094402.jpg', '/data/gbr/test_nocolor/images/15015028201.jpg', '/data/gbr/test_nocolor/images/15006019801.jpg', '/data/gbr/test_nocolor/images/10006114602.jpg', '/data/gbr/test_nocolor/images/10005043402.jpg', '/data/gbr/test_nocolor/images/15015003101.jpg']]\n"
     ]
    }
   ],
   "source": [
    "print[imlist]"
   ]
  }
 ],
 "metadata": {
  "kernelspec": {
   "display_name": "Python 2",
   "language": "python",
   "name": "python2"
  },
  "language_info": {
   "codemirror_mode": {
    "name": "ipython",
    "version": 2
   },
   "file_extension": ".py",
   "mimetype": "text/x-python",
   "name": "python",
   "nbconvert_exporter": "python",
   "pygments_lexer": "ipython2",
   "version": "2.7.6"
  }
 },
 "nbformat": 4,
 "nbformat_minor": 0
}
