{
 "cells": [
  {
   "cell_type": "markdown",
   "metadata": {},
   "source": [
    " ## SET VARIABLES"
   ]
  },
  {
   "cell_type": "code",
   "execution_count": 1,
   "metadata": {
    "collapsed": true
   },
   "outputs": [],
   "source": [
    "os.chdir('/home/caffe/gits')\n",
    "import catlin_deeplearning.experiments.catlin_caffe_experiments as cce\n",
    "import catlin_deeplearning.tools.catlin_classify as cc\n",
    "#define region\n",
    "r='timor'\n",
    "#set experiment to do (NEED TO CONFIGURE EXPERIMETNS in 'catlin_caffe_experiments.py)\n"
   ]
  },
  {
   "cell_type": "markdown",
   "metadata": {},
   "source": [
    "## READ LABELSET\n",
    "BETO TO ADD DESCRIPTION\n",
    "NOTE: 'r' is the name of the region to process as it is defined in the folder"
   ]
  },
  {
   "cell_type": "code",
   "execution_count": 2,
   "metadata": {},
   "outputs": [
    {
     "name": "stdout",
     "output_type": "stream",
     "text": [
      "Number of labels = 59\n"
     ]
    }
   ],
   "source": [
    "import os.path as osp\n",
    "lines = [line.rstrip() for line in open(osp.join('/media/data_caffe',r,'label_structure.csv'))][1:]\n",
    "labelset = [line.split(',')[1] for line in lines]\n",
    "print 'Number of labels = '+str(len(labelset))\n"
   ]
  },
  {
   "cell_type": "markdown",
   "metadata": {},
   "source": [
    "## SET EXPERIMENT \n",
    "\n",
    "### *Option 1*: Single experiment"
   ]
  },
  {
   "cell_type": "code",
   "execution_count": null,
   "metadata": {},
   "outputs": [
    {
     "name": "stdout",
     "output_type": "stream",
     "text": [
      "[ 116.24548743  128.52351221  118.94954178]\n",
      "[ 109.80052509  121.1974872   115.05278316]\n",
      "[ 116.24548743  128.52351221  118.94954178]\n",
      "Fine tuning /media/data_caffe/timor/scaleratio_sweeper_ratio_22_0.001 from vgg_initial.caffemodel.\n"
     ]
    }
   ],
   "source": [
    "region=r\n",
    "lrate='0.001'\n",
    "experiment_type='scaleratio_sweeper'\n",
    "method='ratio'\n",
    "factor='22'\n",
    "cce.set_experiment(method, factor, experiment_type, region, lrate=lrate, lratepol='\"fixed\"')\n",
    "\n",
    "#cc.run_css(region, lrate, method,factor, cycles, cyclesize, Split, dest_folder, gpuid=0)"
   ]
  },
  {
   "cell_type": "markdown",
   "metadata": {},
   "source": [
    "### *Option 2*: Multiple experiments (batch)"
   ]
  },
  {
   "cell_type": "code",
   "execution_count": null,
   "metadata": {
    "scrolled": true
   },
   "outputs": [
    {
     "name": "stdout",
     "output_type": "stream",
     "text": [
      "[ 124.19048853  124.15797962  146.31374884]\n",
      "[ 127.83393087  126.41644775  147.77756763]\n",
      "[ 124.19048853  124.15797962  146.31374884]\n",
      "Fine tuning /media/data_caffe/gbr_ima_auto/scaleratio_sweeper_scale_2.0_0.001 from vgg_initial.caffemodel.\n",
      "DataLayer initialized with 1065 images, 5 imgs per batch, and 224x224 pixel patches\n",
      "Classifying 213 images in /media/data_caffe/gbr_ima_auto/scaleratio_sweeper_scale_2.0_0.001 using snapshot_iter_1000.caffemodel\n",
      "Running /media/data_caffe/gbr_ima_auto/scaleratio_sweeper_scale_2.0_0.001 from iter 1000.\n",
      "DataLayer initialized with 1065 images, 5 imgs per batch, and 224x224 pixel patches\n",
      "Classifying 213 images in /media/data_caffe/gbr_ima_auto/scaleratio_sweeper_scale_2.0_0.001 using snapshot_iter_2000.caffemodel\n",
      "Running /media/data_caffe/gbr_ima_auto/scaleratio_sweeper_scale_2.0_0.001 from iter 2000.\n",
      "DataLayer initialized with 1065 images, 5 imgs per batch, and 224x224 pixel patches\n",
      "Classifying 213 images in /media/data_caffe/gbr_ima_auto/scaleratio_sweeper_scale_2.0_0.001 using snapshot_iter_3000.caffemodel\n",
      "Running /media/data_caffe/gbr_ima_auto/scaleratio_sweeper_scale_2.0_0.001 from iter 3000.\n",
      "DataLayer initialized with 1065 images, 5 imgs per batch, and 224x224 pixel patches\n",
      "Classifying 213 images in /media/data_caffe/gbr_ima_auto/scaleratio_sweeper_scale_2.0_0.001 using snapshot_iter_4000.caffemodel\n",
      "Running /media/data_caffe/gbr_ima_auto/scaleratio_sweeper_scale_2.0_0.001 from iter 4000.\n",
      "DataLayer initialized with 1065 images, 5 imgs per batch, and 224x224 pixel patches\n",
      "Classifying 213 images in /media/data_caffe/gbr_ima_auto/scaleratio_sweeper_scale_2.0_0.001 using snapshot_iter_5000.caffemodel\n",
      "Running /media/data_caffe/gbr_ima_auto/scaleratio_sweeper_scale_2.0_0.001 from iter 5000.\n",
      "DataLayer initialized with 1065 images, 5 imgs per batch, and 224x224 pixel patches\n",
      "Classifying 213 images in /media/data_caffe/gbr_ima_auto/scaleratio_sweeper_scale_2.0_0.001 using snapshot_iter_6000.caffemodel\n",
      "Running /media/data_caffe/gbr_ima_auto/scaleratio_sweeper_scale_2.0_0.001 from iter 6000.\n",
      "DataLayer initialized with 1065 images, 5 imgs per batch, and 224x224 pixel patches\n",
      "Classifying 213 images in /media/data_caffe/gbr_ima_auto/scaleratio_sweeper_scale_2.0_0.001 using snapshot_iter_7000.caffemodel\n",
      "Running /media/data_caffe/gbr_ima_auto/scaleratio_sweeper_scale_2.0_0.001 from iter 7000.\n",
      "DataLayer initialized with 1065 images, 5 imgs per batch, and 224x224 pixel patches\n",
      "Classifying 213 images in /media/data_caffe/gbr_ima_auto/scaleratio_sweeper_scale_2.0_0.001 using snapshot_iter_8000.caffemodel\n",
      "Running /media/data_caffe/gbr_ima_auto/scaleratio_sweeper_scale_2.0_0.001 from iter 8000.\n",
      "DataLayer initialized with 1065 images, 5 imgs per batch, and 224x224 pixel patches\n",
      "Classifying 213 images in /media/data_caffe/gbr_ima_auto/scaleratio_sweeper_scale_2.0_0.001 using snapshot_iter_9000.caffemodel\n",
      "Running /media/data_caffe/gbr_ima_auto/scaleratio_sweeper_scale_2.0_0.001 from iter 9000.\n",
      "DataLayer initialized with 1065 images, 5 imgs per batch, and 224x224 pixel patches\n",
      "Classifying 213 images in /media/data_caffe/gbr_ima_auto/scaleratio_sweeper_scale_2.0_0.001 using snapshot_iter_10000.caffemodel\n",
      "Running /media/data_caffe/gbr_ima_auto/scaleratio_sweeper_scale_2.0_0.001 from iter 10000.\n",
      "DataLayer initialized with 1065 images, 5 imgs per batch, and 224x224 pixel patches\n",
      "Classifying 213 images in /media/data_caffe/gbr_ima_auto/scaleratio_sweeper_scale_2.0_0.001 using snapshot_iter_11000.caffemodel\n",
      "Running /media/data_caffe/gbr_ima_auto/scaleratio_sweeper_scale_2.0_0.001 from iter 11000.\n",
      "DataLayer initialized with 1065 images, 5 imgs per batch, and 224x224 pixel patches\n",
      "Classifying 213 images in /media/data_caffe/gbr_ima_auto/scaleratio_sweeper_scale_2.0_0.001 using snapshot_iter_12000.caffemodel\n",
      "Running /media/data_caffe/gbr_ima_auto/scaleratio_sweeper_scale_2.0_0.001 from iter 12000.\n",
      "DataLayer initialized with 1065 images, 5 imgs per batch, and 224x224 pixel patches\n",
      "Classifying 213 images in /media/data_caffe/gbr_ima_auto/scaleratio_sweeper_scale_2.0_0.001 using snapshot_iter_13000.caffemodel\n",
      "Running /media/data_caffe/gbr_ima_auto/scaleratio_sweeper_scale_2.0_0.001 from iter 13000.\n",
      "DataLayer initialized with 1065 images, 5 imgs per batch, and 224x224 pixel patches\n",
      "Classifying 213 images in /media/data_caffe/gbr_ima_auto/scaleratio_sweeper_scale_2.0_0.001 using snapshot_iter_14000.caffemodel\n",
      "Running /media/data_caffe/gbr_ima_auto/scaleratio_sweeper_scale_2.0_0.001 from iter 14000.\n",
      "DataLayer initialized with 1065 images, 5 imgs per batch, and 224x224 pixel patches\n",
      "Classifying 213 images in /media/data_caffe/gbr_ima_auto/scaleratio_sweeper_scale_2.0_0.001 using snapshot_iter_15000.caffemodel\n",
      "Running /media/data_caffe/gbr_ima_auto/scaleratio_sweeper_scale_2.0_0.001 from iter 15000.\n",
      "DataLayer initialized with 1065 images, 5 imgs per batch, and 224x224 pixel patches\n",
      "Classifying 213 images in /media/data_caffe/gbr_ima_auto/scaleratio_sweeper_scale_2.0_0.001 using snapshot_iter_16000.caffemodel\n",
      "Running /media/data_caffe/gbr_ima_auto/scaleratio_sweeper_scale_2.0_0.001 from iter 16000.\n",
      "DataLayer initialized with 1065 images, 5 imgs per batch, and 224x224 pixel patches\n",
      "Classifying 213 images in /media/data_caffe/gbr_ima_auto/scaleratio_sweeper_scale_2.0_0.001 using snapshot_iter_17000.caffemodel\n",
      "Running /media/data_caffe/gbr_ima_auto/scaleratio_sweeper_scale_2.0_0.001 from iter 17000.\n",
      "DataLayer initialized with 1065 images, 5 imgs per batch, and 224x224 pixel patches\n",
      "Classifying 213 images in /media/data_caffe/gbr_ima_auto/scaleratio_sweeper_scale_2.0_0.001 using snapshot_iter_18000.caffemodel\n",
      "Running /media/data_caffe/gbr_ima_auto/scaleratio_sweeper_scale_2.0_0.001 from iter 18000.\n",
      "DataLayer initialized with 1065 images, 5 imgs per batch, and 224x224 pixel patches\n",
      "Classifying 213 images in /media/data_caffe/gbr_ima_auto/scaleratio_sweeper_scale_2.0_0.001 using snapshot_iter_19000.caffemodel\n",
      "Running /media/data_caffe/gbr_ima_auto/scaleratio_sweeper_scale_2.0_0.001 from iter 19000.\n",
      "DataLayer initialized with 1065 images, 5 imgs per batch, and 224x224 pixel patches\n",
      "Classifying 213 images in /media/data_caffe/gbr_ima_auto/scaleratio_sweeper_scale_2.0_0.001 using snapshot_iter_20000.caffemodel\n",
      "Running /media/data_caffe/gbr_ima_auto/scaleratio_sweeper_scale_2.0_0.001 from iter 20000.\n",
      "DataLayer initialized with 1065 images, 5 imgs per batch, and 224x224 pixel patches\n",
      "Classifying 213 images in /media/data_caffe/gbr_ima_auto/scaleratio_sweeper_scale_2.0_0.001 using snapshot_iter_21000.caffemodel\n",
      "Running /media/data_caffe/gbr_ima_auto/scaleratio_sweeper_scale_2.0_0.001 from iter 21000.\n",
      "DataLayer initialized with 1065 images, 5 imgs per batch, and 224x224 pixel patches\n",
      "Classifying 213 images in /media/data_caffe/gbr_ima_auto/scaleratio_sweeper_scale_2.0_0.001 using snapshot_iter_22000.caffemodel\n",
      "Running /media/data_caffe/gbr_ima_auto/scaleratio_sweeper_scale_2.0_0.001 from iter 22000.\n",
      "DataLayer initialized with 1065 images, 5 imgs per batch, and 224x224 pixel patches\n",
      "Classifying 213 images in /media/data_caffe/gbr_ima_auto/scaleratio_sweeper_scale_2.0_0.001 using snapshot_iter_23000.caffemodel\n",
      "Running /media/data_caffe/gbr_ima_auto/scaleratio_sweeper_scale_2.0_0.001 from iter 23000.\n",
      "DataLayer initialized with 1065 images, 5 imgs per batch, and 224x224 pixel patches\n",
      "Classifying 213 images in /media/data_caffe/gbr_ima_auto/scaleratio_sweeper_scale_2.0_0.001 using snapshot_iter_24000.caffemodel\n",
      "Running /media/data_caffe/gbr_ima_auto/scaleratio_sweeper_scale_2.0_0.001 from iter 24000.\n",
      "DataLayer initialized with 1065 images, 5 imgs per batch, and 224x224 pixel patches\n",
      "Classifying 213 images in /media/data_caffe/gbr_ima_auto/scaleratio_sweeper_scale_2.0_0.001 using snapshot_iter_25000.caffemodel\n",
      "Running /media/data_caffe/gbr_ima_auto/scaleratio_sweeper_scale_2.0_0.001 from iter 25000.\n",
      "DataLayer initialized with 1065 images, 5 imgs per batch, and 224x224 pixel patches\n",
      "Classifying 213 images in /media/data_caffe/gbr_ima_auto/scaleratio_sweeper_scale_2.0_0.001 using snapshot_iter_26000.caffemodel\n",
      "Running /media/data_caffe/gbr_ima_auto/scaleratio_sweeper_scale_2.0_0.001 from iter 26000.\n",
      "DataLayer initialized with 1065 images, 5 imgs per batch, and 224x224 pixel patches\n",
      "Classifying 213 images in /media/data_caffe/gbr_ima_auto/scaleratio_sweeper_scale_2.0_0.001 using snapshot_iter_27000.caffemodel\n",
      "Running /media/data_caffe/gbr_ima_auto/scaleratio_sweeper_scale_2.0_0.001 from iter 27000.\n",
      "DataLayer initialized with 1065 images, 5 imgs per batch, and 224x224 pixel patches\n",
      "Classifying 213 images in /media/data_caffe/gbr_ima_auto/scaleratio_sweeper_scale_2.0_0.001 using snapshot_iter_28000.caffemodel\n",
      "Running /media/data_caffe/gbr_ima_auto/scaleratio_sweeper_scale_2.0_0.001 from iter 28000.\n",
      "DataLayer initialized with 1065 images, 5 imgs per batch, and 224x224 pixel patches\n",
      "Classifying 213 images in /media/data_caffe/gbr_ima_auto/scaleratio_sweeper_scale_2.0_0.001 using snapshot_iter_29000.caffemodel\n",
      "Running /media/data_caffe/gbr_ima_auto/scaleratio_sweeper_scale_2.0_0.001 from iter 29000.\n",
      "DataLayer initialized with 1065 images, 5 imgs per batch, and 224x224 pixel patches\n",
      "Classifying 213 images in /media/data_caffe/gbr_ima_auto/scaleratio_sweeper_scale_2.0_0.001 using snapshot_iter_30000.caffemodel\n",
      "Running /media/data_caffe/gbr_ima_auto/scaleratio_sweeper_scale_2.0_0.001 from iter 30000.\n",
      "DataLayer initialized with 1065 images, 5 imgs per batch, and 224x224 pixel patches\n",
      "Classifying 213 images in /media/data_caffe/gbr_ima_auto/scaleratio_sweeper_scale_2.0_0.001 using snapshot_iter_31000.caffemodel\n",
      "Running /media/data_caffe/gbr_ima_auto/scaleratio_sweeper_scale_2.0_0.001 from iter 31000.\n",
      "DataLayer initialized with 1065 images, 5 imgs per batch, and 224x224 pixel patches\n",
      "Classifying 213 images in /media/data_caffe/gbr_ima_auto/scaleratio_sweeper_scale_2.0_0.001 using snapshot_iter_32000.caffemodel\n",
      "Running /media/data_caffe/gbr_ima_auto/scaleratio_sweeper_scale_2.0_0.001 from iter 32000.\n",
      "DataLayer initialized with 1065 images, 5 imgs per batch, and 224x224 pixel patches\n",
      "Classifying 213 images in /media/data_caffe/gbr_ima_auto/scaleratio_sweeper_scale_2.0_0.001 using snapshot_iter_33000.caffemodel\n",
      "Running /media/data_caffe/gbr_ima_auto/scaleratio_sweeper_scale_2.0_0.001 from iter 33000.\n",
      "DataLayer initialized with 1065 images, 5 imgs per batch, and 224x224 pixel patches\n",
      "Classifying 213 images in /media/data_caffe/gbr_ima_auto/scaleratio_sweeper_scale_2.0_0.001 using snapshot_iter_34000.caffemodel\n",
      "Running /media/data_caffe/gbr_ima_auto/scaleratio_sweeper_scale_2.0_0.001 from iter 34000.\n",
      "DataLayer initialized with 1065 images, 5 imgs per batch, and 224x224 pixel patches\n",
      "Classifying 213 images in /media/data_caffe/gbr_ima_auto/scaleratio_sweeper_scale_2.0_0.001 using snapshot_iter_35000.caffemodel\n",
      "Running /media/data_caffe/gbr_ima_auto/scaleratio_sweeper_scale_2.0_0.001 from iter 35000.\n",
      "DataLayer initialized with 1065 images, 5 imgs per batch, and 224x224 pixel patches\n",
      "Classifying 213 images in /media/data_caffe/gbr_ima_auto/scaleratio_sweeper_scale_2.0_0.001 using snapshot_iter_36000.caffemodel\n",
      "Running /media/data_caffe/gbr_ima_auto/scaleratio_sweeper_scale_2.0_0.001 from iter 36000.\n",
      "DataLayer initialized with 1065 images, 5 imgs per batch, and 224x224 pixel patches\n",
      "Classifying 213 images in /media/data_caffe/gbr_ima_auto/scaleratio_sweeper_scale_2.0_0.001 using snapshot_iter_37000.caffemodel\n",
      "Running /media/data_caffe/gbr_ima_auto/scaleratio_sweeper_scale_2.0_0.001 from iter 37000.\n",
      "DataLayer initialized with 1065 images, 5 imgs per batch, and 224x224 pixel patches\n",
      "Classifying 213 images in /media/data_caffe/gbr_ima_auto/scaleratio_sweeper_scale_2.0_0.001 using snapshot_iter_38000.caffemodel\n",
      "Running /media/data_caffe/gbr_ima_auto/scaleratio_sweeper_scale_2.0_0.001 from iter 38000.\n",
      "DataLayer initialized with 1065 images, 5 imgs per batch, and 224x224 pixel patches\n",
      "Classifying 213 images in /media/data_caffe/gbr_ima_auto/scaleratio_sweeper_scale_2.0_0.001 using snapshot_iter_39000.caffemodel\n",
      "Running /media/data_caffe/gbr_ima_auto/scaleratio_sweeper_scale_2.0_0.001 from iter 39000.\n",
      "DataLayer initialized with 1065 images, 5 imgs per batch, and 224x224 pixel patches\n",
      "Classifying 213 images in /media/data_caffe/gbr_ima_auto/scaleratio_sweeper_scale_2.0_0.001 using snapshot_iter_40000.caffemodel\n",
      "[ 124.19048853  124.15797962  146.31374884]\n",
      "[ 127.83393087  126.41644775  147.77756763]\n",
      "[ 124.19048853  124.15797962  146.31374884]\n",
      "Fine tuning /media/data_caffe/gbr_ima_auto/scaleratio_sweeper_ratio_22_0.001 from vgg_initial.caffemodel.\n"
     ]
    }
   ],
   "source": [
    "cce.scale_experiment_wrapper(r)"
   ]
  }
 ],
 "metadata": {
  "kernelspec": {
   "display_name": "Python 3",
   "language": "python",
   "name": "python3"
  },
  "language_info": {
   "codemirror_mode": {
    "name": "ipython",
    "version": 3
   },
   "file_extension": ".py",
   "mimetype": "text/x-python",
   "name": "python",
   "nbconvert_exporter": "python",
   "pygments_lexer": "ipython3",
   "version": "3.6.5"
  }
 },
 "nbformat": 4,
 "nbformat_minor": 1
}
