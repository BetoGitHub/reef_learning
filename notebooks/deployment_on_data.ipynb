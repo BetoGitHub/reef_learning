{
 "cells": [
  {
   "cell_type": "markdown",
   "metadata": {
    "collapsed": true
   },
   "source": [
    "# Classify images based on a trained net \n",
    "\n",
    "Note: Here we use the find the best iteration of a selected scenrario (experiment) and deploy this net to predict lables on random points from a list of images.\n",
    "\n",
    "We will need to:\n",
    "* 1) Initialize deploy nets with data from GBR and CAR.\n",
    "* 2) Extract prototext from net (add fucntion from beijbom_caffe_tools). I'm not sure if this is needed. \n",
    "\n",
    "\n",
    "## Set up parameters"
   ]
  },
  {
   "cell_type": "code",
   "execution_count": 1,
   "metadata": {
    "collapsed": false
   },
   "outputs": [
    {
     "name": "stderr",
     "output_type": "stream",
     "text": [
      "/usr/local/lib/python2.7/dist-packages/IPython/core/magics/extension.py:47: UserWarning: %install_ext` is deprecated, please distribute your extension as a python package.\n",
      "  \"as a python package.\", UserWarning)\n"
     ]
    },
    {
     "name": "stdout",
     "output_type": "stream",
     "text": [
      "Installed autotime.py. To use it, type:\n",
      "  %load_ext autotime\n"
     ]
    }
   ],
   "source": [
    "%install_ext https://raw.github.com/cpcloud/ipython-autotime/master/autotime.py\n",
    "\n",
    "%load_ext autotime\n",
    "\n",
    "import os\n",
    "import os.path as osp\n",
    "os.chdir(\"/home/caffe/gits\")\n",
    "import catlin_deeplearning.tools.catlin_classify as cc\n",
    "\n",
    "region='timor'\n",
    "modeldir=osp.join('/media/data_caffe', region,'scaleratio_sweeper_scale_2.0_0.001') # for OPTIONAL use  experiment folder and for Deploy use 'deploy' folder\n",
    "\n",
    "# Define data folder to process \n",
    "expdir=\"test\" \n",
    "npoints=50\n",
    "gpuid=0\n",
    "\n",
    "##NOTE: check internet conextion to run this"
   ]
  },
  {
   "cell_type": "markdown",
   "metadata": {},
   "source": [
    "## OPTIONAL: Test deploy net on independed test (e.g., color correction set)\n",
    "\n",
    "This section is optional in case there is an independet set of conditions that need to be tested a posteriori. For example color correction test by using a net trained with colour corrected images and prediction on uncrrected images. "
   ]
  },
  {
   "cell_type": "code",
   "execution_count": 2,
   "metadata": {
    "collapsed": false
   },
   "outputs": [
    {
     "name": "stdout",
     "output_type": "stream",
     "text": [
      "The autotime extension is already loaded. To reload it, use:\n",
      "  %reload_ext autotime\n",
      "DataLayer initialized with 456 images, 5 imgs per batch, and 224x224 pixel patches\n",
      "Done /media/data_caffe/timor/test 330\n",
      "time: 16min 13s\n"
     ]
    }
   ],
   "source": [
    "%load_ext autotime\n",
    "#reload(cc)\n",
    "test_folder='test'\n",
    "cc.classify_test(region, test_folder, modeldir,force_rewrite=True)"
   ]
  },
  {
   "cell_type": "markdown",
   "metadata": {},
   "source": [
    "## Deploy net on images of an specific expedition"
   ]
  },
  {
   "cell_type": "code",
   "execution_count": 4,
   "metadata": {
    "collapsed": false
   },
   "outputs": [
    {
     "name": "stdout",
     "output_type": "stream",
     "text": [
      "The autotime extension is already loaded. To reload it, use:\n",
      "  %reload_ext autotime\n",
      "DataLayer initialized with 1930 images, 5 imgs per batch, and 224x224 pixel patches\n",
      "Starting /media/data_caffe/gbr_ima_auto/data/exp140 18225\n",
      "Done /media/data_caffe/gbr_ima_auto/data/exp140 18225\n",
      "time: 14h 39min 37s\n"
     ]
    }
   ],
   "source": [
    "%load_ext autotime\n",
    "#reload(cc)\n",
    "expdir='exp140' # change according to experiemten and folder to work\n",
    "cc.classify_exp(region,expdir,modeldir,npoints,force_rewrite=True)"
   ]
  }
 ],
 "metadata": {
  "kernelspec": {
   "display_name": "Python 2",
   "language": "python",
   "name": "python2"
  },
  "language_info": {
   "codemirror_mode": {
    "name": "ipython",
    "version": 2
   },
   "file_extension": ".py",
   "mimetype": "text/x-python",
   "name": "python",
   "nbconvert_exporter": "python",
   "pygments_lexer": "ipython2",
   "version": "2.7.6"
  }
 },
 "nbformat": 4,
 "nbformat_minor": 0
}
