{
 "cells": [
  {
   "cell_type": "markdown",
   "metadata": {},
   "source": [
    "# Classify images based on a trained net \n",
    "\n",
    "Note: Here we use the find the best iteration of a selected scenrario (experiment) and deploy this net to predict lables on random points from a list of images.\n",
    "\n",
    "We will need to:\n",
    "* 1) Initialize deploy nets with data from GBR and CAR.\n",
    "* 2) Extract prototext from net (add fucntion from beijbom_caffe_tools). I'm not sure if this is needed. \n",
    "\n",
    "\n",
    "## Set up parameters"
   ]
  },
  {
   "cell_type": "code",
   "execution_count": 2,
   "metadata": {
    "collapsed": false
   },
   "outputs": [],
   "source": [
    "import os\n",
    "import os.path as osp\n",
    "os.chdir(\"/home/caffe/gits\")\n",
    "import catlin_deeplearning.tools.catlin_classify as cc\n",
    "\n",
    "region='gbr'\n",
    "modeldir=osp.join('/media/data_caffe', region,'deploy')\n",
    "\n",
    "# Define data folder to process \n",
    "expdir=\"test_exp\" \n",
    "npoints=50\n",
    "gpuid=0"
   ]
  },
  {
   "cell_type": "markdown",
   "metadata": {},
   "source": [
    "## OPTIONAL: Test deploy net on independed test (e.g., color correction set)\n",
    "\n",
    "This section is optional in case there is an independet set of conditions that need to be tested a posteriori. For example color correction test by using a net trained with colour corrected images and prediction on uncrrected images. "
   ]
  },
  {
   "cell_type": "code",
   "execution_count": 3,
   "metadata": {
    "collapsed": false
   },
   "outputs": [
    {
     "name": "stdout",
     "output_type": "stream",
     "text": [
      "DataLayer initialized with 1065 images, 5 imgs per batch, and 224x224 pixel patches\n",
      "Done /data/gbr/test"
     ]
    },
    {
     "ename": "NameError",
     "evalue": "global name 'imgs' is not defined",
     "output_type": "error",
     "traceback": [
      "\u001b[1;31m---------------------------------------------------------------------------\u001b[0m",
      "\u001b[1;31mNameError\u001b[0m                                 Traceback (most recent call last)",
      "\u001b[1;32m<ipython-input-3-b5581532288e>\u001b[0m in \u001b[0;36m<module>\u001b[1;34m()\u001b[0m\n\u001b[0;32m      1\u001b[0m \u001b[0mreload\u001b[0m\u001b[1;33m(\u001b[0m\u001b[0mcc\u001b[0m\u001b[1;33m)\u001b[0m\u001b[1;33m\u001b[0m\u001b[0m\n\u001b[0;32m      2\u001b[0m \u001b[0mtest_folder\u001b[0m\u001b[1;33m=\u001b[0m\u001b[1;34m'test'\u001b[0m\u001b[1;33m\u001b[0m\u001b[0m\n\u001b[1;32m----> 3\u001b[1;33m \u001b[0mcc\u001b[0m\u001b[1;33m.\u001b[0m\u001b[0mclassify_test\u001b[0m\u001b[1;33m(\u001b[0m\u001b[0mregion\u001b[0m\u001b[1;33m,\u001b[0m \u001b[0mtest_folder\u001b[0m\u001b[1;33m,\u001b[0m \u001b[0mmodeldir\u001b[0m\u001b[1;33m)\u001b[0m\u001b[1;33m\u001b[0m\u001b[0m\n\u001b[0m",
      "\u001b[1;32mcatlin_deeplearning/tools/catlin_classify.pyc\u001b[0m in \u001b[0;36mclassify_test\u001b[1;34m(region, test_folder, modeldir, gpuid, force_rewrite, height_cm)\u001b[0m\n",
      "\u001b[1;31mNameError\u001b[0m: global name 'imgs' is not defined"
     ]
    }
   ],
   "source": [
    "reload(cc)\n",
    "test_folder='test'\n",
    "cc.classify_test(region, test_folder, modeldir)"
   ]
  },
  {
   "cell_type": "markdown",
   "metadata": {},
   "source": [
    "## Deploy net on images of an specific expedition"
   ]
  },
  {
   "cell_type": "code",
   "execution_count": null,
   "metadata": {
    "collapsed": false
   },
   "outputs": [],
   "source": [
    "cc.classify_exp(region,expdir,modeldir,npoints)"
   ]
  }
 ],
 "metadata": {
  "kernelspec": {
   "display_name": "Python 2",
   "language": "python",
   "name": "python2"
  },
  "language_info": {
   "codemirror_mode": {
    "name": "ipython",
    "version": 2
   },
   "file_extension": ".py",
   "mimetype": "text/x-python",
   "name": "python",
   "nbconvert_exporter": "python",
   "pygments_lexer": "ipython2",
   "version": "2.7.6"
  }
 },
 "nbformat": 4,
 "nbformat_minor": 0
}
