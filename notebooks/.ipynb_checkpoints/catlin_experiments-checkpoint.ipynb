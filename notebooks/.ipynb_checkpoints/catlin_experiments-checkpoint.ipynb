{
 "cells": [
  {
   "cell_type": "markdown",
   "metadata": {},
   "source": [
    " ## SET VARIABLES"
   ]
  },
  {
   "cell_type": "code",
   "execution_count": null,
   "metadata": {
    "collapsed": true
   },
   "outputs": [],
   "source": [
    "os.chdir('/home/caffe/gits')\n",
    "import catlin_deeplearning.experiments.catlin_caffe_experiments as cce\n",
    "import catlin_deeplearning.tools.catlin_classify as cc\n",
    "#define region\n",
    "r='gbr_nocolor'\n",
    "#set experiment to do (NEED TO CONFIGURE EXPERIMETNS in 'catlin_caffe_experiments.py)\n"
   ]
  },
  {
   "cell_type": "markdown",
   "metadata": {},
   "source": [
    "## READ LABELSET\n",
    "BETO TO ADD DESCRIPTION\n",
    "NOTE: 'r' is the name of the region to process as it is defined in the folder"
   ]
  },
  {
   "cell_type": "code",
   "execution_count": null,
   "metadata": {
    "collapsed": false
   },
   "outputs": [],
   "source": [
    "import os.path as osp\n",
    "lines = [line.rstrip() for line in open(osp.join('/media/data_caffe',r,'label_structure.csv'))][1:]\n",
    "labelset = [line.split(',')[1] for line in lines]\n",
    "print 'Number of labels = '+str(len(labelset))\n"
   ]
  },
  {
   "cell_type": "markdown",
   "metadata": {},
   "source": [
    "## SET EXPERIMENT \n",
    "\n",
    "### *Option 1*: Single experiment"
   ]
  },
  {
   "cell_type": "code",
   "execution_count": null,
   "metadata": {
    "collapsed": false
   },
   "outputs": [],
   "source": [
    "region=r\n",
    "lrate='0.001'\n",
    "experiment_type='scaleratio_sweeper'\n",
    "method='scale'\n",
    "factor='2.0'\n",
    "cce.set_experiment(method, factor, experiment_type, region, lrate=lrate, lratepol='\"fixed\"')\n",
    "\n",
    "#cc.run_css(region, lrate, method,factor, cycles, cyclesize, Split, dest_folder, gpuid=0)"
   ]
  },
  {
   "cell_type": "markdown",
   "metadata": {},
   "source": [
    "### *Option 2*: Multiple experiments (batch)"
   ]
  },
  {
   "cell_type": "code",
   "execution_count": null,
   "metadata": {
    "collapsed": false
   },
   "outputs": [],
   "source": [
    "cce.scale_experiment_wrapper(r)"
   ]
  }
 ],
 "metadata": {
  "kernelspec": {
   "display_name": "Python 2",
   "language": "python",
   "name": "python2"
  },
  "language_info": {
   "codemirror_mode": {
    "name": "ipython",
    "version": 2
   },
   "file_extension": ".py",
   "mimetype": "text/x-python",
   "name": "python",
   "nbconvert_exporter": "python",
   "pygments_lexer": "ipython2",
   "version": "2.7.6"
  }
 },
 "nbformat": 4,
 "nbformat_minor": 0
}
