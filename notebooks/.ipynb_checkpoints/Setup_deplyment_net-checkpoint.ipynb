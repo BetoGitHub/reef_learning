{
 "cells": [
  {
   "cell_type": "markdown",
   "metadata": {},
   "source": [
    "# SET UP AND RUN DEPLOY NET\n",
    "\n",
    "This net model merge training and test data into one to train the final deployment net that will be used to predict on the entire CSS imagery for a given region. \n",
    "\n",
    "Prior to set this net you will need to run experiments to optimise various parameters (i.e., learning rate, scale method and scale factor). Also, it is ideal the cell error is calculated (as per Remote sensing 2016 paper) to compare amongst regions.\n",
    "\n",
    "PENDING: At the moment, the net is initialised with ImageNet. A small improvement in the accuracy has been observed by using CoralNet image bank. In absence of this, the best approach would be merging all the predicted data from previous CSS models (e.g., GBR, Caribbean) to initialise the Net. \n",
    "\n",
    "NOTE: I have had a few strugles to use the packages from the gits folder, in particular, the ones from Beijbom_vision_lib. The problem is that there have been some aditions to the local files from Beijbom_vision_lib. I ahven't track down the differences, but eventually we will have a more stable version if everything works from the gits files and doesn't relay on the local scripts Oscar left here.\n"
   ]
  },
  {
   "cell_type": "code",
   "execution_count": null,
   "metadata": {
    "collapsed": false
   },
   "outputs": [],
   "source": [
    "import os\n",
    "os.chdir(\"/home/caffe/gits\")\n",
    "import catlin_deeplearning.tools.catlin_classify as cc\n",
    "\n",
    "region='gbr'\n",
    "\n",
    "# Adjust parameters if needed\n",
    "lr='0.001'\n",
    "scale_method='scale'\n",
    "scale_factor='1'\n",
    "cycles=60\n",
    "cyclesize=1000\n",
    "\n",
    "cc.run_deploy(region, lr, scale_method,scale_factor, cycles, cyclesize, gpuid=0)"
   ]
  }
 ],
 "metadata": {
  "celltoolbar": "Raw Cell Format",
  "kernelspec": {
   "display_name": "Python 2",
   "language": "python",
   "name": "python2"
  },
  "language_info": {
   "codemirror_mode": {
    "name": "ipython",
    "version": 2
   },
   "file_extension": ".py",
   "mimetype": "text/x-python",
   "name": "python",
   "nbconvert_exporter": "python",
   "pygments_lexer": "ipython2",
   "version": "2.7.6"
  }
 },
 "nbformat": 4,
 "nbformat_minor": 0
}
