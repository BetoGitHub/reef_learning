{
 "cells": [
  {
   "attachments": {},
   "cell_type": "markdown",
   "metadata": {},
   "source": [
    "# NET TRAINING\n",
    "\n",
    "A series of experiments (using the images and their corresponding labels and annotations) are performed to select the best parameters to train the final model. From the terminal in the EC2 instance call python to run sequentially different scripts. Copy from a text document the lines of the script 1 into the terminal and run the script.  Before copying the script, set the different parameters within the text document for experiment 1.  Table 1 contains the suggested set of experiments and parameters. Note ‘r’ is the name of the current project (OV1). Each experiment can take at least 36 hours and uses all the resources of the instance, thus a single experiment can be run at once. As soon as an experiment has finished transfer the resulting folder (e.g. ‘scaleratio_sweeper_scale_1.0_0.001’) to a local computer with Ubuntu and configured with with Caffe and Catlin scripts)."
   ]
  },
  {
   "cell_type": "code",
   "execution_count": null,
   "metadata": {},
   "outputs": [],
   "source": [
    "\n",
    "## INSTALL EXTRA MODULES\n",
    "import pip\n",
    "\n",
    "def install(package):\n",
    "    pip.main(['install', package])\n",
    "\n",
    "if __name__ == '__main__':\n",
    "    install('tqdm')\n",
    "    \n",
    "\n",
    "##SETUP WORKSPACE \n",
    "import os\n",
    "os.chdir('/scripts/gits/')\n",
    "import reef_learning.experiments.catlin_caffe_experiments as cce\n",
    "import reef_learning.deeplearning_wrappers.catlin_classify as cc\n",
    "import os.path as osp\n",
    "\n",
    "##SET PATHS \n",
    "region='timor'\n",
    "basedir='/scripts/data/'\n",
    "\n",
    "##Read labelset\n",
    "lines = [line.rstrip() for line in open(osp.join(basedir,region,'label_structure.csv'))][1:]\n",
    "labelset = [line.split(',')[1] for line in lines]\n",
    "print 'Number of labels = '+str(len(labelset)) \n",
    "\n",
    "\n"
   ]
  },
  {
   "cell_type": "code",
   "execution_count": null,
   "metadata": {},
   "outputs": [],
   "source": [
    "\n",
    "lrate='0.001'\n",
    "experiment_type='scaleratio_sweeper'\n",
    "method='scale'\n",
    "factor='1.0'\n",
    "cce.set_experiment(method, factor, experiment_type, region, lrate=lrate, lratepol='\"fixed\"')"
   ]
  }
 ],
 "metadata": {
  "kernelspec": {
   "display_name": "Python 2",
   "language": "python",
   "name": "python2"
  },
  "language_info": {
   "codemirror_mode": {
    "name": "ipython",
    "version": 2
   },
   "file_extension": ".py",
   "mimetype": "text/x-python",
   "name": "python",
   "nbconvert_exporter": "python",
   "pygments_lexer": "ipython2",
   "version": "2.7.12"
  }
 },
 "nbformat": 4,
 "nbformat_minor": 2
}
