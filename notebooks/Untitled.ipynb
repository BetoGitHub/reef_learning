{
 "cells": [
  {
   "cell_type": "code",
   "execution_count": 37,
   "metadata": {
    "collapsed": false
   },
   "outputs": [
    {
     "ename": "AttributeError",
     "evalue": "'str' object has no attribute 'read'",
     "output_type": "error",
     "traceback": [
      "\u001b[1;31m---------------------------------------------------------------------------\u001b[0m",
      "\u001b[1;31mAttributeError\u001b[0m                            Traceback (most recent call last)",
      "\u001b[1;32m<ipython-input-37-154d0964af22>\u001b[0m in \u001b[0;36m<module>\u001b[1;34m()\u001b[0m\n\u001b[0;32m      4\u001b[0m \u001b[1;32mimport\u001b[0m \u001b[0mjson\u001b[0m\u001b[1;33m\u001b[0m\u001b[0m\n\u001b[0;32m      5\u001b[0m \u001b[0mest\u001b[0m\u001b[1;33m,\u001b[0m \u001b[0mobs\u001b[0m\u001b[1;33m,\u001b[0m \u001b[0mlabel\u001b[0m\u001b[1;33m=\u001b[0m\u001b[0mbmt\u001b[0m\u001b[1;33m.\u001b[0m\u001b[0mpload\u001b[0m\u001b[1;33m(\u001b[0m\u001b[1;34m'/media/data_caffe/car/learningrate_scale_2.0_224_0.00001/predictions_on_test.p'\u001b[0m\u001b[1;33m)\u001b[0m\u001b[1;33m\u001b[0m\u001b[0m\n\u001b[1;32m----> 6\u001b[1;33m \u001b[0mtestdict\u001b[0m\u001b[1;33m=\u001b[0m\u001b[0mjson\u001b[0m\u001b[1;33m.\u001b[0m\u001b[0mload\u001b[0m\u001b[1;33m(\u001b[0m\u001b[1;34m'/media/data_caffe/car/learningrate_scale_2.0_224_0.00001/testdict.json'\u001b[0m\u001b[1;33m)\u001b[0m\u001b[1;33m\u001b[0m\u001b[0m\n\u001b[0m\u001b[0;32m      7\u001b[0m \u001b[1;32mprint\u001b[0m \u001b[1;34m'done'\u001b[0m\u001b[1;33m\u001b[0m\u001b[0m\n",
      "\u001b[1;32m/usr/lib/python2.7/json/__init__.pyc\u001b[0m in \u001b[0;36mload\u001b[1;34m(fp, encoding, cls, object_hook, parse_float, parse_int, parse_constant, object_pairs_hook, **kw)\u001b[0m\n\u001b[0;32m    284\u001b[0m \u001b[1;33m\u001b[0m\u001b[0m\n\u001b[0;32m    285\u001b[0m     \"\"\"\n\u001b[1;32m--> 286\u001b[1;33m     return loads(fp.read(),\n\u001b[0m\u001b[0;32m    287\u001b[0m         \u001b[0mencoding\u001b[0m\u001b[1;33m=\u001b[0m\u001b[0mencoding\u001b[0m\u001b[1;33m,\u001b[0m \u001b[0mcls\u001b[0m\u001b[1;33m=\u001b[0m\u001b[0mcls\u001b[0m\u001b[1;33m,\u001b[0m \u001b[0mobject_hook\u001b[0m\u001b[1;33m=\u001b[0m\u001b[0mobject_hook\u001b[0m\u001b[1;33m,\u001b[0m\u001b[1;33m\u001b[0m\u001b[0m\n\u001b[0;32m    288\u001b[0m         \u001b[0mparse_float\u001b[0m\u001b[1;33m=\u001b[0m\u001b[0mparse_float\u001b[0m\u001b[1;33m,\u001b[0m \u001b[0mparse_int\u001b[0m\u001b[1;33m=\u001b[0m\u001b[0mparse_int\u001b[0m\u001b[1;33m,\u001b[0m\u001b[1;33m\u001b[0m\u001b[0m\n",
      "\u001b[1;31mAttributeError\u001b[0m: 'str' object has no attribute 'read'"
     ]
    }
   ],
   "source": [
    "os.chdir('/home/caffe/gits')\n",
    "import beijbom_vision_lib.misc.tools as bmt\n",
    "import beijbom_vision_lib.caffe.tools as bct\n",
    "import json\n",
    "est, obs, label=bmt.pload('/media/data_caffe/car/learningrate_scale_2.0_224_0.00001/predictions_on_test.p')\n",
    "print 'done'"
   ]
  },
  {
   "cell_type": "code",
   "execution_count": 157,
   "metadata": {
    "collapsed": false
   },
   "outputs": [],
   "source": [
    "import numpy as np\n",
    "with open('/media/data_caffe/car/learningrate_scale_2.0_224_0.00001/testdict.json') as f:\n",
    "    imdict=json.load(f)\n",
    "\n",
    "#imdict[x] for x in imdict.keys()\n",
    "rows=[]\n",
    "#imdict[imdict.keys()[0]]\n",
    "for x in imdict.keys():\n",
    "    tr={y[0] for y in imdict[x][0]}\n",
    "    rows.append(tr)\n"
   ]
  },
  {
   "cell_type": "code",
   "execution_count": 180,
   "metadata": {
    "collapsed": false
   },
   "outputs": [
    {
     "name": "stdout",
     "output_type": "stream",
     "text": [
      "[[174, 170, 12], [139, 198, 12], [116, 460, 12], [161, 469, 46], [97, 828, 52], [310, 139, 12], [300, 74, 12], [226, 362, 12], [350, 356, 64], [218, 510, 12], [229, 450, 12], [301, 453, 12], [294, 671, 62], [304, 696, 64], [272, 756, 46], [234, 844, 52], [495, 118, 62], [382, 349, 57], [502, 230, 46], [381, 348, 57], [426, 518, 62], [418, 397, 62], [489, 596, 62], [503, 662, 64], [509, 611, 27], [419, 718, 52], [411, 827, 46], [388, 739, 46], [527, 119, 64], [526, 111, 64], [557, 196, 46], [664, 143, 37], [555, 226, 46], [533, 263, 46], [645, 335, 16], [562, 401, 16], [676, 458, 16], [527, 522, 16], [590, 428, 16], [528, 525, 16], [566, 533, 16], [528, 683, 52], [563, 547, 16], [605, 614, 62], [540, 664, 52], [655, 726, 64], [701, 126, 64], [711, 242, 1], [804, 394, 16], [775, 641, 57]]\n",
      "[174, 139, 116, 161, 97, 310, 300, 226, 350, 218, 229, 301, 294, 304, 272, 234, 495, 382, 502, 381, 426, 418, 489, 503, 509, 419, 411, 388, 527, 526, 557, 664, 555, 533, 645, 562, 676, 527, 590, 528, 566, 528, 563, 605, 540, 655, 701, 711, 804, 775]\n"
     ]
    },
    {
     "data": {
      "text/plain": [
       "50"
      ]
     },
     "execution_count": 180,
     "metadata": {},
     "output_type": "execute_result"
    }
   ],
   "source": [
    "print(imdict[imdict.keys()[0]][0])\n",
    "pp={y[1] for y in imdict[imdict.keys()[0]][0]}\n",
    "kk=[y for y,_,_ in imdict[imdict.keys()[0]][0]]\n",
    "print(kk)\n",
    "len(kk)"
   ]
  }
 ],
 "metadata": {
  "kernelspec": {
   "display_name": "Python 2",
   "language": "python",
   "name": "python2"
  },
  "language_info": {
   "codemirror_mode": {
    "name": "ipython",
    "version": 2
   },
   "file_extension": ".py",
   "mimetype": "text/x-python",
   "name": "python",
   "nbconvert_exporter": "python",
   "pygments_lexer": "ipython2",
   "version": "2.7.6"
  }
 },
 "nbformat": 4,
 "nbformat_minor": 0
}
